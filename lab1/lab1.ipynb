{
 "cells": [
  {
   "cell_type": "markdown",
   "id": "f5647d2d",
   "metadata": {},
   "source": [
    "# Wprowadzenie do programowania w R — cz. 1\n",
    "> Semestr zimowy 2021/22\n",
    "\n",
    "Zadania oparte są na zbiorze danych precip z biblioteki standardowej R (?precip). Znajdź następujące informacje.\n"
   ]
  },
  {
   "cell_type": "code",
   "execution_count": 1,
   "id": "bd13d5ab",
   "metadata": {},
   "outputs": [],
   "source": [
    "# 1. Jaka jest średnia i mediana opadów w rejestrowanych miastach?"
   ]
  },
  {
   "cell_type": "code",
   "execution_count": 2,
   "id": "576fdf0b",
   "metadata": {},
   "outputs": [
    {
     "data": {
      "text/html": [
       "34.8857142857143"
      ],
      "text/latex": [
       "34.8857142857143"
      ],
      "text/markdown": [
       "34.8857142857143"
      ],
      "text/plain": [
       "[1] 34.88571"
      ]
     },
     "metadata": {},
     "output_type": "display_data"
    }
   ],
   "source": [
    "mean(precip)"
   ]
  },
  {
   "cell_type": "code",
   "execution_count": 3,
   "id": "45af956e",
   "metadata": {},
   "outputs": [],
   "source": [
    "# 2. Jaka jest wariancja i odchylenie standardowe opadów?"
   ]
  },
  {
   "cell_type": "code",
   "execution_count": 4,
   "id": "1f9ae6cf",
   "metadata": {},
   "outputs": [
    {
     "data": {
      "text/html": [
       "<style>\n",
       ".list-inline {list-style: none; margin:0; padding: 0}\n",
       ".list-inline>li {display: inline-block}\n",
       ".list-inline>li:not(:last-child)::after {content: \"\\00b7\"; padding: 0 .5ex}\n",
       "</style>\n",
       "<ol class=list-inline><li>187.872256728778</li><li>13.7066500914256</li></ol>\n"
      ],
      "text/latex": [
       "\\begin{enumerate*}\n",
       "\\item 187.872256728778\n",
       "\\item 13.7066500914256\n",
       "\\end{enumerate*}\n"
      ],
      "text/markdown": [
       "1. 187.872256728778\n",
       "2. 13.7066500914256\n",
       "\n",
       "\n"
      ],
      "text/plain": [
       "[1] 187.87226  13.70665"
      ]
     },
     "metadata": {},
     "output_type": "display_data"
    }
   ],
   "source": [
    "c(var(precip), sd(precip))"
   ]
  },
  {
   "cell_type": "code",
   "execution_count": 5,
   "id": "66ead635",
   "metadata": {},
   "outputs": [],
   "source": [
    "# 3. Jaki jest rozstęp opadów? [Uwaga: standardowa funkcja range() nie liczy wprost rozstępu tylko wektor dwuelementowy zawierający minimum i maksimum]."
   ]
  },
  {
   "cell_type": "code",
   "execution_count": 6,
   "id": "94864655",
   "metadata": {},
   "outputs": [
    {
     "data": {
      "text/html": [
       "60"
      ],
      "text/latex": [
       "60"
      ],
      "text/markdown": [
       "60"
      ],
      "text/plain": [
       "[1] 60"
      ]
     },
     "metadata": {},
     "output_type": "display_data"
    }
   ],
   "source": [
    "diff(range(precip))"
   ]
  },
  {
   "cell_type": "code",
   "execution_count": 8,
   "id": "e3e63ae9",
   "metadata": {},
   "outputs": [],
   "source": [
    "# 4. Jaki jest rozstęp międzykwartylowy? Porównaj wynik uzyskany przy pomocy funkcji IQR() (?IQR) z wynikiem uzyskanym (jak na wykładzie) przy pomocy funkcji fivenum() (?fivenum)."
   ]
  },
  {
   "cell_type": "code",
   "execution_count": 11,
   "id": "f63b9b40",
   "metadata": {},
   "outputs": [
    {
     "data": {
      "text/html": [
       "<style>\n",
       ".list-inline {list-style: none; margin:0; padding: 0}\n",
       ".list-inline>li {display: inline-block}\n",
       ".list-inline>li:not(:last-child)::after {content: \"\\00b7\"; padding: 0 .5ex}\n",
       "</style>\n",
       "<ol class=list-inline><li>13.7</li><li>13.4</li></ol>\n"
      ],
      "text/latex": [
       "\\begin{enumerate*}\n",
       "\\item 13.7\n",
       "\\item 13.4\n",
       "\\end{enumerate*}\n"
      ],
      "text/markdown": [
       "1. 13.7\n",
       "2. 13.4\n",
       "\n",
       "\n"
      ],
      "text/plain": [
       "[1] 13.7 13.4"
      ]
     },
     "metadata": {},
     "output_type": "display_data"
    }
   ],
   "source": [
    "iqr = function(x) unname(diff(fivenum(x)[c(2, 4)]))\n",
    "c(iqr(precip), IQR(precip))"
   ]
  },
  {
   "cell_type": "code",
   "execution_count": 12,
   "id": "b453db36",
   "metadata": {},
   "outputs": [],
   "source": [
    "# 5. Jakie jest odchylenie przeciętne od średniej? Jakie jest odchylenie przeciętne od mediany?"
   ]
  },
  {
   "cell_type": "code",
   "execution_count": 15,
   "id": "f6d709db",
   "metadata": {},
   "outputs": [
    {
     "data": {
      "text/html": [
       "<style>\n",
       ".list-inline {list-style: none; margin:0; padding: 0}\n",
       ".list-inline>li {display: inline-block}\n",
       ".list-inline>li:not(:last-child)::after {content: \"\\00b7\"; padding: 0 .5ex}\n",
       "</style>\n",
       "<ol class=list-inline><li>10.6685714285714</li><li>10.4914285714286</li></ol>\n"
      ],
      "text/latex": [
       "\\begin{enumerate*}\n",
       "\\item 10.6685714285714\n",
       "\\item 10.4914285714286\n",
       "\\end{enumerate*}\n"
      ],
      "text/markdown": [
       "1. 10.6685714285714\n",
       "2. 10.4914285714286\n",
       "\n",
       "\n"
      ],
      "text/plain": [
       "[1] 10.66857 10.49143"
      ]
     },
     "metadata": {},
     "output_type": "display_data"
    }
   ],
   "source": [
    "dev.mean = function(x) mean(abs(x - mean(x)))\n",
    "dev.med = function(x) mean(abs(x - median(x)))\n",
    "c(dev.mean(precip), dev.med(precip))\n"
   ]
  },
  {
   "cell_type": "code",
   "execution_count": 16,
   "id": "1801f00b",
   "metadata": {},
   "outputs": [],
   "source": [
    "# 6. Jaki jest poziom opadów w miastach, których nazwa zaczyna się na “M” (?startsWith)?"
   ]
  },
  {
   "cell_type": "code",
   "execution_count": 18,
   "id": "49b09a01",
   "metadata": {},
   "outputs": [
    {
     "data": {
      "text/html": [
       "<style>\n",
       ".dl-inline {width: auto; margin:0; padding: 0}\n",
       ".dl-inline>dt, .dl-inline>dd {float: none; width: auto; display: inline-block}\n",
       ".dl-inline>dt::after {content: \":\\0020\"; padding-right: .5ex}\n",
       ".dl-inline>dt:not(:first-of-type) {padding-left: .5ex}\n",
       "</style><dl class=dl-inline><dt>Mobile</dt><dd>67</dd><dt>Miami</dt><dd>59.8</dd><dt>Minneapolis/St Paul</dt><dd>25.9</dd><dt>Memphis</dt><dd>49.1</dd><dt>Milwaukee</dt><dd>29.1</dd></dl>\n"
      ],
      "text/latex": [
       "\\begin{description*}\n",
       "\\item[Mobile] 67\n",
       "\\item[Miami] 59.8\n",
       "\\item[Minneapolis/St Paul] 25.9\n",
       "\\item[Memphis] 49.1\n",
       "\\item[Milwaukee] 29.1\n",
       "\\end{description*}\n"
      ],
      "text/markdown": [
       "Mobile\n",
       ":   67Miami\n",
       ":   59.8Minneapolis/St Paul\n",
       ":   25.9Memphis\n",
       ":   49.1Milwaukee\n",
       ":   29.1\n",
       "\n"
      ],
      "text/plain": [
       "             Mobile               Miami Minneapolis/St Paul             Memphis \n",
       "               67.0                59.8                25.9                49.1 \n",
       "          Milwaukee \n",
       "               29.1 "
      ]
     },
     "metadata": {},
     "output_type": "display_data"
    },
    {
     "data": {
      "text/html": [
       "46.18"
      ],
      "text/latex": [
       "46.18"
      ],
      "text/markdown": [
       "46.18"
      ],
      "text/plain": [
       "[1] 46.18"
      ]
     },
     "metadata": {},
     "output_type": "display_data"
    }
   ],
   "source": [
    "m = precip[startsWith(names(precip), \"M\")]\n",
    "m\n",
    "mean(m)"
   ]
  },
  {
   "cell_type": "code",
   "execution_count": 19,
   "id": "543e8dd3",
   "metadata": {},
   "outputs": [],
   "source": [
    "# 7. W których miastach opady są równe średniej?"
   ]
  },
  {
   "cell_type": "code",
   "execution_count": 22,
   "id": "bd3b8154",
   "metadata": {},
   "outputs": [
    {
     "data": {
      "text/html": [],
      "text/latex": [],
      "text/markdown": [],
      "text/plain": [
       "character(0)"
      ]
     },
     "metadata": {},
     "output_type": "display_data"
    }
   ],
   "source": [
    "names(precip[precip == mean(precip)])"
   ]
  },
  {
   "cell_type": "code",
   "execution_count": 23,
   "id": "d431bd25",
   "metadata": {},
   "outputs": [],
   "source": [
    "# 8. W których miastach opady różnią się od mediany nie więcej niż 0.5 cala?"
   ]
  },
  {
   "cell_type": "code",
   "execution_count": 24,
   "id": "947b8ffa",
   "metadata": {},
   "outputs": [],
   "source": [
    "# 9. W którym mieście opady są najmniejsze, a w którym największe?"
   ]
  },
  {
   "cell_type": "code",
   "execution_count": 37,
   "id": "a907a443",
   "metadata": {},
   "outputs": [
    {
     "data": {
      "text/html": [
       "<span style=white-space:pre-wrap>'MAX:  Mobile'</span>"
      ],
      "text/latex": [
       "'MAX:  Mobile'"
      ],
      "text/markdown": [
       "<span style=white-space:pre-wrap>'MAX:  Mobile'</span>"
      ],
      "text/plain": [
       "[1] \"MAX:  Mobile\""
      ]
     },
     "metadata": {},
     "output_type": "display_data"
    },
    {
     "data": {
      "text/html": [
       "<span style=white-space:pre-wrap>'MIN:  Phoenix'</span>"
      ],
      "text/latex": [
       "'MIN:  Phoenix'"
      ],
      "text/markdown": [
       "<span style=white-space:pre-wrap>'MIN:  Phoenix'</span>"
      ],
      "text/plain": [
       "[1] \"MIN:  Phoenix\""
      ]
     },
     "metadata": {},
     "output_type": "display_data"
    }
   ],
   "source": [
    "paste(\"MAX: \", names(precip[which.max(precip)]))\n",
    "paste(\"MIN: \", names(precip[which.min(precip)]))"
   ]
  },
  {
   "cell_type": "code",
   "execution_count": 38,
   "id": "7d1b14b0",
   "metadata": {},
   "outputs": [],
   "source": [
    "# 10. Ile jest miast z opadami powyżej średniej?"
   ]
  },
  {
   "cell_type": "code",
   "execution_count": 39,
   "id": "e46ec5e3",
   "metadata": {},
   "outputs": [
    {
     "data": {
      "text/html": [
       "42"
      ],
      "text/latex": [
       "42"
      ],
      "text/markdown": [
       "42"
      ],
      "text/plain": [
       "[1] 42"
      ]
     },
     "metadata": {},
     "output_type": "display_data"
    }
   ],
   "source": [
    "sum(precip > mean(precip))"
   ]
  },
  {
   "cell_type": "code",
   "execution_count": 40,
   "id": "50555662",
   "metadata": {},
   "outputs": [],
   "source": [
    "# 11. W których miastach opady leżą powyżej górnego kwartyla?"
   ]
  },
  {
   "cell_type": "code",
   "execution_count": 42,
   "id": "7cae033f",
   "metadata": {},
   "outputs": [
    {
     "data": {
      "text/html": [
       "<style>\n",
       ".list-inline {list-style: none; margin:0; padding: 0}\n",
       ".list-inline>li {display: inline-block}\n",
       ".list-inline>li:not(:last-child)::after {content: \"\\00b7\"; padding: 0 .5ex}\n",
       "</style>\n",
       "<ol class=list-inline><li>'Mobile'</li><li>'Juneau'</li><li>'Little Rock'</li><li>'Hartford'</li><li>'Jacksonville'</li><li>'Miami'</li><li>'Atlanta'</li><li>'Louisville'</li><li>'New Orleans'</li><li>'Jackson'</li><li>'Atlantic City'</li><li>'Columbia'</li><li>'Memphis'</li><li>'Nashville'</li><li>'Houston'</li><li>'Norfolk'</li><li>'San Juan'</li></ol>\n"
      ],
      "text/latex": [
       "\\begin{enumerate*}\n",
       "\\item 'Mobile'\n",
       "\\item 'Juneau'\n",
       "\\item 'Little Rock'\n",
       "\\item 'Hartford'\n",
       "\\item 'Jacksonville'\n",
       "\\item 'Miami'\n",
       "\\item 'Atlanta'\n",
       "\\item 'Louisville'\n",
       "\\item 'New Orleans'\n",
       "\\item 'Jackson'\n",
       "\\item 'Atlantic City'\n",
       "\\item 'Columbia'\n",
       "\\item 'Memphis'\n",
       "\\item 'Nashville'\n",
       "\\item 'Houston'\n",
       "\\item 'Norfolk'\n",
       "\\item 'San Juan'\n",
       "\\end{enumerate*}\n"
      ],
      "text/markdown": [
       "1. 'Mobile'\n",
       "2. 'Juneau'\n",
       "3. 'Little Rock'\n",
       "4. 'Hartford'\n",
       "5. 'Jacksonville'\n",
       "6. 'Miami'\n",
       "7. 'Atlanta'\n",
       "8. 'Louisville'\n",
       "9. 'New Orleans'\n",
       "10. 'Jackson'\n",
       "11. 'Atlantic City'\n",
       "12. 'Columbia'\n",
       "13. 'Memphis'\n",
       "14. 'Nashville'\n",
       "15. 'Houston'\n",
       "16. 'Norfolk'\n",
       "17. 'San Juan'\n",
       "\n",
       "\n"
      ],
      "text/plain": [
       " [1] \"Mobile\"        \"Juneau\"        \"Little Rock\"   \"Hartford\"     \n",
       " [5] \"Jacksonville\"  \"Miami\"         \"Atlanta\"       \"Louisville\"   \n",
       " [9] \"New Orleans\"   \"Jackson\"       \"Atlantic City\" \"Columbia\"     \n",
       "[13] \"Memphis\"       \"Nashville\"     \"Houston\"       \"Norfolk\"      \n",
       "[17] \"San Juan\"     "
      ]
     },
     "metadata": {},
     "output_type": "display_data"
    }
   ],
   "source": [
    "names(precip[precip > fivenum(precip)[4]])"
   ]
  },
  {
   "cell_type": "code",
   "execution_count": 43,
   "id": "50f36fcd",
   "metadata": {},
   "outputs": [],
   "source": [
    "# 12. W których miastach opady leżą poniżej dolnego kwartyla?"
   ]
  },
  {
   "cell_type": "code",
   "execution_count": 44,
   "id": "7439aca3",
   "metadata": {},
   "outputs": [
    {
     "data": {
      "text/html": [
       "<style>\n",
       ".list-inline {list-style: none; margin:0; padding: 0}\n",
       ".list-inline>li {display: inline-block}\n",
       ".list-inline>li:not(:last-child)::after {content: \"\\00b7\"; padding: 0 .5ex}\n",
       "</style>\n",
       "<ol class=list-inline><li>'Phoenix'</li><li>'Los Angeles'</li><li>'Sacramento'</li><li>'San Francisco'</li><li>'Denver'</li><li>'Honolulu'</li><li>'Boise'</li><li>'Minneapolis/St Paul'</li><li>'Great Falls'</li><li>'Reno'</li><li>'Albuquerque'</li><li>'Bismark'</li><li>'Sioux Falls'</li><li>'El Paso'</li><li>'Salt Lake City'</li><li>'Spokane'</li><li>'Cheyenne'</li></ol>\n"
      ],
      "text/latex": [
       "\\begin{enumerate*}\n",
       "\\item 'Phoenix'\n",
       "\\item 'Los Angeles'\n",
       "\\item 'Sacramento'\n",
       "\\item 'San Francisco'\n",
       "\\item 'Denver'\n",
       "\\item 'Honolulu'\n",
       "\\item 'Boise'\n",
       "\\item 'Minneapolis/St Paul'\n",
       "\\item 'Great Falls'\n",
       "\\item 'Reno'\n",
       "\\item 'Albuquerque'\n",
       "\\item 'Bismark'\n",
       "\\item 'Sioux Falls'\n",
       "\\item 'El Paso'\n",
       "\\item 'Salt Lake City'\n",
       "\\item 'Spokane'\n",
       "\\item 'Cheyenne'\n",
       "\\end{enumerate*}\n"
      ],
      "text/markdown": [
       "1. 'Phoenix'\n",
       "2. 'Los Angeles'\n",
       "3. 'Sacramento'\n",
       "4. 'San Francisco'\n",
       "5. 'Denver'\n",
       "6. 'Honolulu'\n",
       "7. 'Boise'\n",
       "8. 'Minneapolis/St Paul'\n",
       "9. 'Great Falls'\n",
       "10. 'Reno'\n",
       "11. 'Albuquerque'\n",
       "12. 'Bismark'\n",
       "13. 'Sioux Falls'\n",
       "14. 'El Paso'\n",
       "15. 'Salt Lake City'\n",
       "16. 'Spokane'\n",
       "17. 'Cheyenne'\n",
       "\n",
       "\n"
      ],
      "text/plain": [
       " [1] \"Phoenix\"             \"Los Angeles\"         \"Sacramento\"         \n",
       " [4] \"San Francisco\"       \"Denver\"              \"Honolulu\"           \n",
       " [7] \"Boise\"               \"Minneapolis/St Paul\" \"Great Falls\"        \n",
       "[10] \"Reno\"                \"Albuquerque\"         \"Bismark\"            \n",
       "[13] \"Sioux Falls\"         \"El Paso\"             \"Salt Lake City\"     \n",
       "[16] \"Spokane\"             \"Cheyenne\"           "
      ]
     },
     "metadata": {},
     "output_type": "display_data"
    }
   ],
   "source": [
    "names(precip[precip < fivenum(precip)[2]])"
   ]
  },
  {
   "cell_type": "code",
   "execution_count": 45,
   "id": "b72bf798",
   "metadata": {},
   "outputs": [],
   "source": [
    "# 13. Narysuj histogram rozkładu. Jakie wnioski na temat rozkładu można z niego wyciągnąć?"
   ]
  },
  {
   "cell_type": "code",
   "execution_count": 51,
   "id": "87639113",
   "metadata": {},
   "outputs": [
    {
     "data": {
      "image/png": "[encoded data removed]",
      "text/plain": [
       "Plot with title “Histogram of precip”"
      ]
     },
     "metadata": {
      "image/png": {
       "height": 420,
       "width": 420
      }
     },
     "output_type": "display_data"
    }
   ],
   "source": [
    "hist(precip)"
   ]
  },
  {
   "cell_type": "code",
   "execution_count": 52,
   "id": "29004f03",
   "metadata": {},
   "outputs": [],
   "source": [
    "# 14. Narysuj wykres pudełkowy rozkładu. Jakie z niego płyną wnioski? Które miasta stanowią wartości odstające na wykresie pudełkowym"
   ]
  },
  {
   "cell_type": "code",
   "execution_count": 56,
   "id": "ddd7fb7d",
   "metadata": {},
   "outputs": [
    {
     "data": {
      "image/png": "[encoded data removed]",
      "text/plain": [
       "plot without title"
      ]
     },
     "metadata": {
      "image/png": {
       "height": 420,
       "width": 420
      }
     },
     "output_type": "display_data"
    }
   ],
   "source": [
    "boxplot(precip)"
   ]
  },
  {
   "cell_type": "code",
   "execution_count": null,
   "id": "bd8ffeff",
   "metadata": {},
   "outputs": [],
   "source": []
  }
 ],
 "metadata": {
  "kernelspec": {
   "display_name": "R",
   "language": "R",
   "name": "ir"
  },
  "language_info": {
   "codemirror_mode": "r",
   "file_extension": ".r",
   "mimetype": "text/x-r-source",
   "name": "R",
   "pygments_lexer": "r",
   "version": "4.0.4"
  }
 },
 "nbformat": 4,
 "nbformat_minor": 5
}
