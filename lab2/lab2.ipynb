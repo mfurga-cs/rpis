{
 "cells": [
  {
   "cell_type": "markdown",
   "id": "13772c93",
   "metadata": {},
   "source": [
    "# Wprowadzenie do programowania w R — cz. 2\n",
    "> Semestr zimowy 2021/22\n"
   ]
  },
  {
   "cell_type": "code",
   "execution_count": 8,
   "id": "5f8da38d",
   "metadata": {},
   "outputs": [],
   "source": [
    "data <- read.csv(\"Auto.csv\", header = TRUE, na.strings = \"?\")"
   ]
  },
  {
   "cell_type": "code",
   "execution_count": 17,
   "id": "6b011a18",
   "metadata": {},
   "outputs": [
    {
     "data": {
      "text/html": [
       "23.5158690176322"
      ],
      "text/latex": [
       "23.5158690176322"
      ],
      "text/markdown": [
       "23.5158690176322"
      ],
      "text/plain": [
       "[1] 23.51587"
      ]
     },
     "metadata": {},
     "output_type": "display_data"
    }
   ],
   "source": [
    "# 1. Jakie jest średnie zużycie paliwa (mpg) wszystkich samochodów?\n",
    "mean(data$mpg)"
   ]
  },
  {
   "cell_type": "code",
   "execution_count": 20,
   "id": "81960260",
   "metadata": {},
   "outputs": [
    {
     "data": {
      "text/html": [
       "29.3177339901478"
      ],
      "text/latex": [
       "29.3177339901478"
      ],
      "text/markdown": [
       "29.3177339901478"
      ],
      "text/plain": [
       "[1] 29.31773"
      ]
     },
     "metadata": {},
     "output_type": "display_data"
    }
   ],
   "source": [
    "# 2. Jakie jest średnie zużycie paliwa samochodów, które mają 4 cylindry?\n",
    "mean(data$mpg[data$cylinders == 4])"
   ]
  },
  {
   "cell_type": "code",
   "execution_count": 21,
   "id": "76c1b41a",
   "metadata": {},
   "outputs": [
    {
     "data": {
      "text/html": [
       "2800"
      ],
      "text/latex": [
       "2800"
      ],
      "text/markdown": [
       "2800"
      ],
      "text/plain": [
       "[1] 2800"
      ]
     },
     "metadata": {},
     "output_type": "display_data"
    }
   ],
   "source": [
    "# 3. Jaka jest mediana wagi (weight) wszystkich samochodów?\n",
    "median(data$weight)"
   ]
  },
  {
   "cell_type": "code",
   "execution_count": 22,
   "id": "c4a80c37",
   "metadata": {},
   "outputs": [
    {
     "data": {
      "text/html": [
       "18.7142857142857"
      ],
      "text/latex": [
       "18.7142857142857"
      ],
      "text/markdown": [
       "18.7142857142857"
      ],
      "text/plain": [
       "[1] 18.71429"
      ]
     },
     "metadata": {},
     "output_type": "display_data"
    }
   ],
   "source": [
    "# 4. Jakie jest średnie zużycie paliwa samochodów wyprodukowanych w roku 72?\n",
    "mean(data$mpg[data$year == 72])"
   ]
  },
  {
   "cell_type": "code",
   "execution_count": 23,
   "id": "5bcc8af3",
   "metadata": {},
   "outputs": [
    {
     "data": {
      "text/html": [
       "7.56247411139099"
      ],
      "text/latex": [
       "7.56247411139099"
      ],
      "text/markdown": [
       "7.56247411139099"
      ],
      "text/plain": [
       "[1] 7.562474"
      ]
     },
     "metadata": {},
     "output_type": "display_data"
    }
   ],
   "source": [
    "# 5. Jaka jest wariancja przyspieszenia (acceleration) wszystkich samochodów?\n",
    "var(data$acceleration)"
   ]
  },
  {
   "cell_type": "code",
   "execution_count": 24,
   "id": "124e7e6e",
   "metadata": {},
   "outputs": [
    {
     "data": {
      "text/html": [
       "3.82177864329763"
      ],
      "text/latex": [
       "3.82177864329763"
      ],
      "text/markdown": [
       "3.82177864329763"
      ],
      "text/plain": [
       "[1] 3.821779"
      ]
     },
     "metadata": {},
     "output_type": "display_data"
    }
   ],
   "source": [
    "# 6. Jaka jest wariancja przyspieszenia samochodów japońskich (origin == 3)?\n",
    "var(data$acceleration[data$origin == 3])"
   ]
  },
  {
   "cell_type": "code",
   "execution_count": 32,
   "id": "14f111c0",
   "metadata": {},
   "outputs": [
    {
     "data": {
      "text/html": [
       "148"
      ],
      "text/latex": [
       "148"
      ],
      "text/markdown": [
       "148"
      ],
      "text/plain": [
       "[1] 148"
      ]
     },
     "metadata": {},
     "output_type": "display_data"
    }
   ],
   "source": [
    "# 7. Ile jest samochodów, których moc (horsepower) jest powyżej średniej?\n",
    "sum(data$horsepower > mean(data$horsepower, na.rm = TRUE), na.rm = TRUE)"
   ]
  },
  {
   "cell_type": "code",
   "execution_count": 36,
   "id": "1a54b4c6",
   "metadata": {},
   "outputs": [
    {
     "data": {
      "text/html": [
       "230"
      ],
      "text/latex": [
       "230"
      ],
      "text/markdown": [
       "230"
      ],
      "text/plain": [
       "[1] 230"
      ]
     },
     "metadata": {},
     "output_type": "display_data"
    }
   ],
   "source": [
    "# 8. Jaka jest maksymalna moc samochodów, których waga jest poniżej średniej?\n",
    "max(data$horsepower[data$weight > mean(data$weight)])"
   ]
  },
  {
   "cell_type": "code",
   "execution_count": 38,
   "id": "891a27bd",
   "metadata": {},
   "outputs": [
    {
     "data": {
      "text/html": [
       "189"
      ],
      "text/latex": [
       "189"
      ],
      "text/markdown": [
       "189"
      ],
      "text/plain": [
       "[1] 189"
      ]
     },
     "metadata": {},
     "output_type": "display_data"
    }
   ],
   "source": [
    "# 9. Ile jest samochodów, których zużycie paliwa jest poniżej średniej (czyli mpg jest powyżej średniej)?\n",
    "sum(data$mpg > mean(data$mpg))"
   ]
  },
  {
   "cell_type": "code",
   "execution_count": 41,
   "id": "f4bb17c9",
   "metadata": {},
   "outputs": [
    {
     "data": {
      "text/html": [
       "3"
      ],
      "text/latex": [
       "3"
      ],
      "text/markdown": [
       "3"
      ],
      "text/plain": [
       "[1] 3"
      ]
     },
     "metadata": {},
     "output_type": "display_data"
    }
   ],
   "source": [
    "# 10. Jaka jest minimalna liczba cylindrów samochodów, których zużycie paliwa jest poniżej średniej?\n",
    "min(data$cylinders[data$mpg > mean(data$mpg)])"
   ]
  },
  {
   "cell_type": "code",
   "execution_count": 42,
   "id": "954120b8",
   "metadata": {},
   "outputs": [
    {
     "data": {
      "text/html": [
       "3"
      ],
      "text/latex": [
       "3"
      ],
      "text/markdown": [
       "3"
      ],
      "text/plain": [
       "[1] 3"
      ]
     },
     "metadata": {},
     "output_type": "display_data"
    }
   ],
   "source": [
    "# 11. Ile jest samochodów o maksymalnej pojemności silnika (displacement)?\n",
    "sum(data$displacement == max(data$displacement))"
   ]
  },
  {
   "cell_type": "code",
   "execution_count": 45,
   "id": "9667e21e",
   "metadata": {},
   "outputs": [
    {
     "data": {
      "text/html": [
       "3270"
      ],
      "text/latex": [
       "3270"
      ],
      "text/markdown": [
       "3270"
      ],
      "text/plain": [
       "[1] 3270"
      ]
     },
     "metadata": {},
     "output_type": "display_data"
    }
   ],
   "source": [
    "# 12. Jakie jest maksymalna waga (weight) samochodów, których pojemność silnika jest mniejsza od jej mediany?\n",
    "max(data$weight[data$displacement < median(data$displacement)])"
   ]
  }
 ],
 "metadata": {
  "kernelspec": {
   "display_name": "R",
   "language": "R",
   "name": "ir"
  },
  "language_info": {
   "codemirror_mode": "r",
   "file_extension": ".r",
   "mimetype": "text/x-r-source",
   "name": "R",
   "pygments_lexer": "r",
   "version": "4.0.4"
  }
 },
 "nbformat": 4,
 "nbformat_minor": 5
}
